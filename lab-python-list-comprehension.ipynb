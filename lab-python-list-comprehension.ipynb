{
 "cells": [
  {
   "cell_type": "markdown",
   "id": "25d7736c-ba17-4aff-b6bb-66eba20fbf4e",
   "metadata": {},
   "source": [
    "# Lab | List, Dict and Set Comprehension"
   ]
  },
  {
   "cell_type": "markdown",
   "id": "7dd3cbde-675a-4b81-92c3-f728846dbe06",
   "metadata": {},
   "source": [
    "## Exercise: Managing Customer Orders Optimized with Comprehension"
   ]
  },
  {
   "cell_type": "markdown",
   "id": "5d500160-2fb7-4777-b5e4-09d45ebaf328",
   "metadata": {},
   "source": [
    "In the previous exercise, you developed a program to manage customer orders and inventory. Now, let's take it a step further and incorporate comprehension into your code.\n",
    "\n",
    "Follow the steps below to complete the exercise:\n",
    "\n",
    "1. Review your code from the previous exercise and identify areas where you can apply comprehension to simplify and streamline your code. \n",
    "\n",
    "    - *Hint: Apply it to initialize inventory, updating the inventory and printing the updated inventory.*\n",
    "    \n",
    "    - For example, in initializing the inventory, we could have:\n",
    "    \n",
    "        ```python\n",
    "        def initialize_inventory(products):\n",
    "            inventory = {product: int(input(f\"Enter the quantity of {product}s available: \")) for product in products}\n",
    "            return inventory\n",
    "\n",
    "        ```\n",
    "<br>\n",
    "    \n",
    "    \n",
    "2. Modify the function get_customer_orders so it prompts the user to enter the number of customer orders and gathers the product names using a loop and user input. Use comprehension.\n",
    "\n",
    "3. Add a new function to calculate the total price of the customer order. For each product in customer_orders, prompt the user to enter the price of that product. Use comprehension to calculate the total price. Note: assume that the user can only have 1 unit of each product.\n",
    "\n",
    "4. Modify the update_inventory function to remove the product from the inventory if its quantity becomes zero after fulfilling the customer orders. Use comprehension to filter out the products with a quantity of zero from the inventory.\n",
    "\n",
    "5. Print the total price of the customer order.\n",
    "\n",
    "Your code should produce output similar to the following:\n",
    "\n",
    "```python\n",
    "Enter the quantity of t-shirts available:  5\n",
    "Enter the quantity of mugs available:  4\n",
    "Enter the quantity of hats available:  3\n",
    "Enter the quantity of books available:  2\n",
    "Enter the quantity of keychains available:  1\n",
    "Enter the number of customer orders:  2\n",
    "Enter the name of a product that a customer wants to order:  hat\n",
    "Enter the name of a product that a customer wants to order:  keychain\n",
    "\n",
    "Order Statistics:\n",
    "Total Products Ordered: 2\n",
    "Percentage of Unique Products Ordered: 40.0\n",
    "\n",
    "Updated Inventory:\n",
    "t-shirt: 5\n",
    "mug: 4\n",
    "hat: 2\n",
    "book: 2\n",
    "Enter the price of keychain:  5\n",
    "Enter the price of hat:  10\n",
    "Total Price: 15.0\n",
    "\n",
    "```\n"
   ]
  },
  {
   "cell_type": "code",
   "execution_count": 24,
   "id": "a94e3b8b-d4be-48a6-9efc-3cc9503ced1a",
   "metadata": {},
   "outputs": [
    {
     "name": "stdout",
     "output_type": "stream",
     "text": [
      "=== Initializing Inventory ===\n"
     ]
    },
    {
     "name": "stdin",
     "output_type": "stream",
     "text": [
      "Enter the quantity of shirts available:  5\n",
      "Enter the quantity of mugs available:  7\n",
      "Enter the quantity of hats available:  4\n",
      "Enter the quantity of books available:  8\n",
      "Enter the quantity of keychains available:  8\n"
     ]
    },
    {
     "name": "stdout",
     "output_type": "stream",
     "text": [
      "\n",
      "=== Getting Customer Orders ===\n"
     ]
    },
    {
     "name": "stdin",
     "output_type": "stream",
     "text": [
      "Enter the number of customer orders:  10\n",
      "Enter product name for order #1:  1\n",
      "Enter product name for order #2:  mug\n",
      "Enter product name for order #3:  hat\n",
      "Enter product name for order #4:  keychain\n",
      "Enter product name for order #5:  nug\n",
      "Enter product name for order #6:  hat\n",
      "Enter product name for order #7:  book\n",
      "Enter product name for order #8:  shirs\n",
      "Enter product name for order #9:  shirts\n",
      "Enter product name for order #10:  shirts\n"
     ]
    },
    {
     "name": "stdout",
     "output_type": "stream",
     "text": [
      "\n",
      "Customer ordered: {'1', 'shirs', 'book', 'mug', 'keychain', 'nug', 'shirts', 'hat'}\n",
      "\n",
      "=== Calculating Total Price ===\n"
     ]
    },
    {
     "name": "stdin",
     "output_type": "stream",
     "text": [
      "Enter price for 1:  10\n",
      "Enter price for shirs:  7\n",
      "Enter price for book:  9\n",
      "Enter price for mug:  8\n",
      "Enter price for keychain:  8\n",
      "Enter price for nug:  1\n",
      "Enter price for shirts:  8\n",
      "Enter price for hat:  2\n"
     ]
    },
    {
     "name": "stdout",
     "output_type": "stream",
     "text": [
      "\n",
      "Total price: $53.00\n",
      "\n",
      "=== Updating Inventory ===\n",
      "\n",
      "Updated Inventory:\n",
      "shirt: 5\n",
      "mug: 6\n",
      "hat: 3\n",
      "book: 7\n",
      "keychain: 7\n"
     ]
    }
   ],
   "source": [
    "\n",
    "# Step 1: Initialize inventory with dictionary comprehension\n",
    "def initialize_inventory(products):\n",
    "    return {product: int(input(f\"Enter the quantity of {product}s available: \")) for product in products}\n",
    "\n",
    "# Step 2: Get customer orders with list comprehension\n",
    "def get_customer_orders():\n",
    "    num_orders = int(input(\"Enter the number of customer orders: \"))\n",
    "    return {input(f\"Enter product name for order #{i+1}: \") for i in range(num_orders)}\n",
    "\n",
    "# Step 3: Calculate total price with dictionary comprehension\n",
    "def calculate_total_price(customer_orders):\n",
    "    prices = {product: float(input(f\"Enter price for {product}: \")) for product in customer_orders}\n",
    "    return sum(prices.values())\n",
    "\n",
    "# Step 4: Update inventory and filter out zero quantities\n",
    "def update_inventory(inventory, customer_orders):\n",
    "    # Subtract 1 for each ordered product\n",
    "    updated_inv = {product: (inventory[product] - 1) for product in customer_orders if product in inventory}\n",
    "    # Merge with non-ordered products and filter out zeros\n",
    "    return {k: v for k, v in {**inventory, **updated_inv}.items() if v > 0}\n",
    "\n",
    "# Main program\n",
    "def main():\n",
    "    products = [\"shirt\", \"mug\", \"hat\", \"book\", \"keychain\"]\n",
    "    \n",
    "    print(\"=== Initializing Inventory ===\")\n",
    "    inventory = initialize_inventory(products)\n",
    "    \n",
    "    print(\"\\n=== Getting Customer Orders ===\")\n",
    "    customer_orders = get_customer_orders()\n",
    "    print(f\"\\nCustomer ordered: {customer_orders}\")\n",
    "    \n",
    "    print(\"\\n=== Calculating Total Price ===\")\n",
    "    total_price = calculate_total_price(customer_orders)\n",
    "    print(f\"\\nTotal price: ${total_price:.2f}\")\n",
    "    \n",
    "    print(\"\\n=== Updating Inventory ===\")\n",
    "    inventory = update_inventory(inventory, customer_orders)\n",
    "    print(\"\\nUpdated Inventory:\")\n",
    "    for product, quantity in inventory.items():\n",
    "        print(f\"{product}: {quantity}\")\n",
    "\n",
    "if __name__ == \"__main__\":\n",
    "    main()"
   ]
  },
  {
   "cell_type": "code",
   "execution_count": null,
   "id": "f3b31662-cf03-4ce1-af82-0d29a32cd5f0",
   "metadata": {},
   "outputs": [],
   "source": []
  }
 ],
 "metadata": {
  "kernelspec": {
   "display_name": "Python 3 (ipykernel)",
   "language": "python",
   "name": "python3"
  },
  "language_info": {
   "codemirror_mode": {
    "name": "ipython",
    "version": 3
   },
   "file_extension": ".py",
   "mimetype": "text/x-python",
   "name": "python",
   "nbconvert_exporter": "python",
   "pygments_lexer": "ipython3",
   "version": "3.12.7"
  }
 },
 "nbformat": 4,
 "nbformat_minor": 5
}
